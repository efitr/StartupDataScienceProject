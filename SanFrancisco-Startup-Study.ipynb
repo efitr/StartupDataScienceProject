{
 "cells": [
  {
   "cell_type": "markdown",
   "metadata": {},
   "source": [
    "# San Francisco Startup List"
   ]
  },
  {
   "cell_type": "markdown",
   "metadata": {},
   "source": [
    "## Motivation\n",
    " * The startup market is a very interesting place for possibilities of ideation and creation to take place. I want to understand it better for the enjoyment of knowing what is happening there and how it works."
   ]
  },
  {
   "cell_type": "markdown",
   "metadata": {},
   "source": [
    "## Approach\n",
    " * First clean the dataset from the data I believe won't add any value to the questions I seek to get answered.\n",
    " * State the problems I face on this dataset where the information does not help me see through what I want.\n",
    " * Mold the dataset so the information I seek get answered and supply graphics with those answer to make clear my desired understanding."
   ]
  },
  {
   "cell_type": "markdown",
   "metadata": {},
   "source": [
    "## Process"
   ]
  },
  {
   "cell_type": "code",
   "execution_count": 16,
   "metadata": {},
   "outputs": [],
   "source": [
    "import pandas as pd\n",
    "import numpy as np\n",
    "import matplotlib.pyplot as plt"
   ]
  },
  {
   "cell_type": "code",
   "execution_count": 17,
   "metadata": {},
   "outputs": [],
   "source": [
    "PATH = \"Dataset/san-francisco-based-startups.zip\""
   ]
  },
  {
   "cell_type": "code",
   "execution_count": 19,
   "metadata": {},
   "outputs": [],
   "source": [
    "df = pd.read_csv(PATH)"
   ]
  },
  {
   "cell_type": "code",
   "execution_count": 20,
   "metadata": {},
   "outputs": [
    {
     "data": {
      "text/html": [
       "<div>\n",
       "<style scoped>\n",
       "    .dataframe tbody tr th:only-of-type {\n",
       "        vertical-align: middle;\n",
       "    }\n",
       "\n",
       "    .dataframe tbody tr th {\n",
       "        vertical-align: top;\n",
       "    }\n",
       "\n",
       "    .dataframe thead th {\n",
       "        text-align: right;\n",
       "    }\n",
       "</style>\n",
       "<table border=\"1\" class=\"dataframe\">\n",
       "  <thead>\n",
       "    <tr style=\"text-align: right;\">\n",
       "      <th></th>\n",
       "      <th>name</th>\n",
       "      <th>email</th>\n",
       "      <th>product_desc</th>\n",
       "      <th>high_concept</th>\n",
       "      <th>location</th>\n",
       "      <th>market1</th>\n",
       "      <th>market2</th>\n",
       "      <th>market3</th>\n",
       "    </tr>\n",
       "  </thead>\n",
       "  <tbody>\n",
       "    <tr>\n",
       "      <th>0</th>\n",
       "      <td>Delight</td>\n",
       "      <td>http://delight.io</td>\n",
       "      <td>Delight enlightens developers and designers on...</td>\n",
       "      <td>1 line of code to capture user interaction on ...</td>\n",
       "      <td>San Francisco</td>\n",
       "      <td>User Testing</td>\n",
       "      <td>Usability</td>\n",
       "      <td>Mobile Analytics</td>\n",
       "    </tr>\n",
       "    <tr>\n",
       "      <th>1</th>\n",
       "      <td>AnyRoad</td>\n",
       "      <td>http://anyroad.com</td>\n",
       "      <td>AnyRoad is the leader in enterprise experience...</td>\n",
       "      <td>The leader in enterprise experience management.</td>\n",
       "      <td>San Francisco</td>\n",
       "      <td>SaaS</td>\n",
       "      <td>Enterprise Software</td>\n",
       "      <td>Experience Design</td>\n",
       "    </tr>\n",
       "    <tr>\n",
       "      <th>2</th>\n",
       "      <td>MESA Ventures</td>\n",
       "      <td>http://www.mesa.vc</td>\n",
       "      <td>MESA Ventures is an early stage venture capita...</td>\n",
       "      <td>Consumer-focused venture capital</td>\n",
       "      <td>New York City</td>\n",
       "      <td>NaN</td>\n",
       "      <td>NaN</td>\n",
       "      <td>NaN</td>\n",
       "    </tr>\n",
       "    <tr>\n",
       "      <th>3</th>\n",
       "      <td>Code for America</td>\n",
       "      <td>http://codeforamerica.org</td>\n",
       "      <td>The CfA Accelerator is an early stage startup ...</td>\n",
       "      <td>Helping government work better with the people...</td>\n",
       "      <td>San Francisco</td>\n",
       "      <td>Open Source</td>\n",
       "      <td>Governments</td>\n",
       "      <td>Nonprofits</td>\n",
       "    </tr>\n",
       "    <tr>\n",
       "      <th>4</th>\n",
       "      <td>Zipongo</td>\n",
       "      <td>http://www.zipongo.com</td>\n",
       "      <td>Free: Web &amp; Mobile shopping list on healthy GO...</td>\n",
       "      <td>Prescription for Healthy Living (Personalized ...</td>\n",
       "      <td>San Francisco</td>\n",
       "      <td>Mobile</td>\n",
       "      <td>Enterprise Software</td>\n",
       "      <td>Food and Beverages</td>\n",
       "    </tr>\n",
       "    <tr>\n",
       "      <th>5</th>\n",
       "      <td>FOBO</td>\n",
       "      <td>http://fobo.net</td>\n",
       "      <td>\"FOBO Launches In San Francisco To Become The ...</td>\n",
       "      <td>The fastest, easiest way to sell your electronics</td>\n",
       "      <td>San Francisco</td>\n",
       "      <td>Mobile</td>\n",
       "      <td>Marketplaces</td>\n",
       "      <td>Local</td>\n",
       "    </tr>\n",
       "    <tr>\n",
       "      <th>6</th>\n",
       "      <td>Upside</td>\n",
       "      <td>http://www.upsideadvisor.com</td>\n",
       "      <td>Upside helps registered investment advisors be...</td>\n",
       "      <td>Upside helps financial advisors beat the “robo...</td>\n",
       "      <td>San Francisco</td>\n",
       "      <td>Financial Services</td>\n",
       "      <td>Investment Management</td>\n",
       "      <td>Personal Finance</td>\n",
       "    </tr>\n",
       "    <tr>\n",
       "      <th>7</th>\n",
       "      <td>Whistle</td>\n",
       "      <td>http://www.whistle.com</td>\n",
       "      <td>Whistle is the world's first technology compan...</td>\n",
       "      <td>Improving the lives of pets, as they do ours.</td>\n",
       "      <td>San Francisco</td>\n",
       "      <td>Health Care</td>\n",
       "      <td>Consumer Electronics</td>\n",
       "      <td>Pets</td>\n",
       "    </tr>\n",
       "    <tr>\n",
       "      <th>8</th>\n",
       "      <td>Kinderloop</td>\n",
       "      <td>http://www.kinderloop.com/?utm_source=Angelist...</td>\n",
       "      <td>A web, and mobile application that brings the ...</td>\n",
       "      <td>Beautifully simple early childhood reporting!</td>\n",
       "      <td>San Francisco</td>\n",
       "      <td>Parenting</td>\n",
       "      <td>Kids</td>\n",
       "      <td>K-12 Education</td>\n",
       "    </tr>\n",
       "    <tr>\n",
       "      <th>9</th>\n",
       "      <td>Fresh</td>\n",
       "      <td>http://www.freshvc.com</td>\n",
       "      <td>Fresh is a venture capital firm focused on inv...</td>\n",
       "      <td>We invest in companies that make people's live...</td>\n",
       "      <td>San Francisco</td>\n",
       "      <td>Enterprise Software</td>\n",
       "      <td>Marketplaces</td>\n",
       "      <td>Developer Tools</td>\n",
       "    </tr>\n",
       "  </tbody>\n",
       "</table>\n",
       "</div>"
      ],
      "text/plain": [
       "               name                                              email  \\\n",
       "0           Delight                                  http://delight.io   \n",
       "1           AnyRoad                                 http://anyroad.com   \n",
       "2     MESA Ventures                                 http://www.mesa.vc   \n",
       "3  Code for America                          http://codeforamerica.org   \n",
       "4           Zipongo                             http://www.zipongo.com   \n",
       "5              FOBO                                    http://fobo.net   \n",
       "6            Upside                       http://www.upsideadvisor.com   \n",
       "7           Whistle                             http://www.whistle.com   \n",
       "8        Kinderloop  http://www.kinderloop.com/?utm_source=Angelist...   \n",
       "9             Fresh                             http://www.freshvc.com   \n",
       "\n",
       "                                        product_desc  \\\n",
       "0  Delight enlightens developers and designers on...   \n",
       "1  AnyRoad is the leader in enterprise experience...   \n",
       "2  MESA Ventures is an early stage venture capita...   \n",
       "3  The CfA Accelerator is an early stage startup ...   \n",
       "4  Free: Web & Mobile shopping list on healthy GO...   \n",
       "5  \"FOBO Launches In San Francisco To Become The ...   \n",
       "6  Upside helps registered investment advisors be...   \n",
       "7  Whistle is the world's first technology compan...   \n",
       "8  A web, and mobile application that brings the ...   \n",
       "9  Fresh is a venture capital firm focused on inv...   \n",
       "\n",
       "                                        high_concept       location  \\\n",
       "0  1 line of code to capture user interaction on ...  San Francisco   \n",
       "1    The leader in enterprise experience management.  San Francisco   \n",
       "2                   Consumer-focused venture capital  New York City   \n",
       "3  Helping government work better with the people...  San Francisco   \n",
       "4  Prescription for Healthy Living (Personalized ...  San Francisco   \n",
       "5  The fastest, easiest way to sell your electronics  San Francisco   \n",
       "6  Upside helps financial advisors beat the “robo...  San Francisco   \n",
       "7      Improving the lives of pets, as they do ours.  San Francisco   \n",
       "8      Beautifully simple early childhood reporting!  San Francisco   \n",
       "9  We invest in companies that make people's live...  San Francisco   \n",
       "\n",
       "               market1                market2             market3  \n",
       "0         User Testing              Usability    Mobile Analytics  \n",
       "1                 SaaS    Enterprise Software   Experience Design  \n",
       "2                  NaN                    NaN                 NaN  \n",
       "3          Open Source            Governments          Nonprofits  \n",
       "4               Mobile    Enterprise Software  Food and Beverages  \n",
       "5               Mobile           Marketplaces               Local  \n",
       "6   Financial Services  Investment Management    Personal Finance  \n",
       "7          Health Care   Consumer Electronics                Pets  \n",
       "8            Parenting                   Kids      K-12 Education  \n",
       "9  Enterprise Software           Marketplaces     Developer Tools  "
      ]
     },
     "execution_count": 20,
     "metadata": {},
     "output_type": "execute_result"
    }
   ],
   "source": [
    "df.head(10)"
   ]
  },
  {
   "cell_type": "markdown",
   "metadata": {
    "collapsed": true
   },
   "source": [
    "## Cleaning\n",
    " * Drop email, it does not serve any purpose.\n",
    " * If one has market1, market2 or market3 empty, get rid of that row."
   ]
  },
  {
   "cell_type": "markdown",
   "metadata": {},
   "source": [
    "## Problem \n",
    " * Which markets are the most competitive ones, there is more people creating products for that.\n",
    "     * Separate all unique values, create categories among those.\n",
    "     * Start easy just do the ones with the most repetitions, then go deeper.\n",
    "     * See market by market\n",
    " * Which market is the one with the lowest competition.\n",
    "     * See all the ones with unique values, how many are there, could they fit in any categorie.\n",
    " * Which location has the most amount of startups.\n",
    "     * Datapoint x Location"
   ]
  },
  {
   "cell_type": "markdown",
   "metadata": {},
   "source": [
    "---"
   ]
  },
  {
   "cell_type": "markdown",
   "metadata": {},
   "source": [
    "## Step1 - Cleaning"
   ]
  },
  {
   "cell_type": "markdown",
   "metadata": {},
   "source": [
    "### Getting rid of the email column"
   ]
  },
  {
   "cell_type": "code",
   "execution_count": 21,
   "metadata": {},
   "outputs": [],
   "source": [
    "df = df.drop('email', 1)"
   ]
  },
  {
   "cell_type": "code",
   "execution_count": 24,
   "metadata": {},
   "outputs": [
    {
     "data": {
      "text/html": [
       "<div>\n",
       "<style scoped>\n",
       "    .dataframe tbody tr th:only-of-type {\n",
       "        vertical-align: middle;\n",
       "    }\n",
       "\n",
       "    .dataframe tbody tr th {\n",
       "        vertical-align: top;\n",
       "    }\n",
       "\n",
       "    .dataframe thead th {\n",
       "        text-align: right;\n",
       "    }\n",
       "</style>\n",
       "<table border=\"1\" class=\"dataframe\">\n",
       "  <thead>\n",
       "    <tr style=\"text-align: right;\">\n",
       "      <th></th>\n",
       "      <th>name</th>\n",
       "      <th>product_desc</th>\n",
       "      <th>high_concept</th>\n",
       "      <th>location</th>\n",
       "      <th>market1</th>\n",
       "      <th>market2</th>\n",
       "      <th>market3</th>\n",
       "    </tr>\n",
       "  </thead>\n",
       "  <tbody>\n",
       "    <tr>\n",
       "      <th>0</th>\n",
       "      <td>Delight</td>\n",
       "      <td>Delight enlightens developers and designers on...</td>\n",
       "      <td>1 line of code to capture user interaction on ...</td>\n",
       "      <td>San Francisco</td>\n",
       "      <td>User Testing</td>\n",
       "      <td>Usability</td>\n",
       "      <td>Mobile Analytics</td>\n",
       "    </tr>\n",
       "    <tr>\n",
       "      <th>1</th>\n",
       "      <td>AnyRoad</td>\n",
       "      <td>AnyRoad is the leader in enterprise experience...</td>\n",
       "      <td>The leader in enterprise experience management.</td>\n",
       "      <td>San Francisco</td>\n",
       "      <td>SaaS</td>\n",
       "      <td>Enterprise Software</td>\n",
       "      <td>Experience Design</td>\n",
       "    </tr>\n",
       "    <tr>\n",
       "      <th>2</th>\n",
       "      <td>MESA Ventures</td>\n",
       "      <td>MESA Ventures is an early stage venture capita...</td>\n",
       "      <td>Consumer-focused venture capital</td>\n",
       "      <td>New York City</td>\n",
       "      <td>NaN</td>\n",
       "      <td>NaN</td>\n",
       "      <td>NaN</td>\n",
       "    </tr>\n",
       "    <tr>\n",
       "      <th>3</th>\n",
       "      <td>Code for America</td>\n",
       "      <td>The CfA Accelerator is an early stage startup ...</td>\n",
       "      <td>Helping government work better with the people...</td>\n",
       "      <td>San Francisco</td>\n",
       "      <td>Open Source</td>\n",
       "      <td>Governments</td>\n",
       "      <td>Nonprofits</td>\n",
       "    </tr>\n",
       "    <tr>\n",
       "      <th>4</th>\n",
       "      <td>Zipongo</td>\n",
       "      <td>Free: Web &amp; Mobile shopping list on healthy GO...</td>\n",
       "      <td>Prescription for Healthy Living (Personalized ...</td>\n",
       "      <td>San Francisco</td>\n",
       "      <td>Mobile</td>\n",
       "      <td>Enterprise Software</td>\n",
       "      <td>Food and Beverages</td>\n",
       "    </tr>\n",
       "  </tbody>\n",
       "</table>\n",
       "</div>"
      ],
      "text/plain": [
       "               name                                       product_desc  \\\n",
       "0           Delight  Delight enlightens developers and designers on...   \n",
       "1           AnyRoad  AnyRoad is the leader in enterprise experience...   \n",
       "2     MESA Ventures  MESA Ventures is an early stage venture capita...   \n",
       "3  Code for America  The CfA Accelerator is an early stage startup ...   \n",
       "4           Zipongo  Free: Web & Mobile shopping list on healthy GO...   \n",
       "\n",
       "                                        high_concept       location  \\\n",
       "0  1 line of code to capture user interaction on ...  San Francisco   \n",
       "1    The leader in enterprise experience management.  San Francisco   \n",
       "2                   Consumer-focused venture capital  New York City   \n",
       "3  Helping government work better with the people...  San Francisco   \n",
       "4  Prescription for Healthy Living (Personalized ...  San Francisco   \n",
       "\n",
       "        market1              market2             market3  \n",
       "0  User Testing            Usability    Mobile Analytics  \n",
       "1          SaaS  Enterprise Software   Experience Design  \n",
       "2           NaN                  NaN                 NaN  \n",
       "3   Open Source          Governments          Nonprofits  \n",
       "4        Mobile  Enterprise Software  Food and Beverages  "
      ]
     },
     "execution_count": 24,
     "metadata": {},
     "output_type": "execute_result"
    }
   ],
   "source": [
    "df.head()"
   ]
  },
  {
   "cell_type": "code",
   "execution_count": 25,
   "metadata": {},
   "outputs": [
    {
     "data": {
      "text/plain": [
       "1044"
      ]
     },
     "execution_count": 25,
     "metadata": {},
     "output_type": "execute_result"
    }
   ],
   "source": [
    "len(df)"
   ]
  },
  {
   "cell_type": "markdown",
   "metadata": {},
   "source": [
    "### With the objective of getting rid of the NaN values I found plenty of options to achieve this but I don't know which approach is better so given that this step is been taken to improve the dataset, I will decide on the approach that damages less the data integrity.\n",
    " * Geting rid of rows that have any NaN value.\n",
    " * Get rid of the rows where all of the values are NaN.\n",
    " * Delete only for rows that have at least two NaN values."
   ]
  },
  {
   "cell_type": "code",
   "execution_count": 26,
   "metadata": {},
   "outputs": [],
   "source": [
    "# No more NaN anywhere\n",
    "df_bye_NaN = df.dropna()"
   ]
  },
  {
   "cell_type": "code",
   "execution_count": 28,
   "metadata": {},
   "outputs": [
    {
     "data": {
      "text/plain": [
       "834"
      ]
     },
     "execution_count": 28,
     "metadata": {},
     "output_type": "execute_result"
    }
   ],
   "source": [
    "len(df_bye_NaN)"
   ]
  },
  {
   "cell_type": "code",
   "execution_count": 32,
   "metadata": {},
   "outputs": [],
   "source": [
    "market_df = df.loc[:, ['market1', 'market2', 'market3']]\n",
    "df_bye_lack_of_data = market_df.dropna(how='all') "
   ]
  },
  {
   "cell_type": "code",
   "execution_count": 33,
   "metadata": {},
   "outputs": [
    {
     "data": {
      "text/plain": [
       "1012"
      ]
     },
     "execution_count": 33,
     "metadata": {},
     "output_type": "execute_result"
    }
   ],
   "source": [
    "len(df_bye_lack_of_data)"
   ]
  },
  {
   "cell_type": "code",
   "execution_count": 37,
   "metadata": {},
   "outputs": [],
   "source": [
    "kind_of_clean_df = market_df.dropna(thresh=2) "
   ]
  },
  {
   "cell_type": "code",
   "execution_count": 38,
   "metadata": {},
   "outputs": [
    {
     "data": {
      "text/plain": [
       "956"
      ]
     },
     "execution_count": 38,
     "metadata": {},
     "output_type": "execute_result"
    }
   ],
   "source": [
    "len(kind_of_clean_df)"
   ]
  },
  {
   "cell_type": "markdown",
   "metadata": {},
   "source": [
    "### Conclusion\n",
    " * For this particular study keeping a column that was never going to be used was a good idea.\n",
    " * I decided to clean NaN, even though you lose 210 datapoints, I think that because of the nature of this project it doesn't matter."
   ]
  },
  {
   "cell_type": "markdown",
   "metadata": {},
   "source": [
    "---"
   ]
  },
  {
   "cell_type": "markdown",
   "metadata": {},
   "source": [
    "## Step2 - Problem set up"
   ]
  },
  {
   "cell_type": "markdown",
   "metadata": {},
   "source": [
    " * Which markets are the most competitive ones, there is more people creating products for that.\n",
    "     * Separate all unique values, create categories among those.\n",
    "     * Start easy just do the ones with the most repetitions, then go deeper.\n",
    "     * See market by market"
   ]
  },
  {
   "cell_type": "code",
   "execution_count": 41,
   "metadata": {},
   "outputs": [
    {
     "data": {
      "text/html": [
       "<div>\n",
       "<style scoped>\n",
       "    .dataframe tbody tr th:only-of-type {\n",
       "        vertical-align: middle;\n",
       "    }\n",
       "\n",
       "    .dataframe tbody tr th {\n",
       "        vertical-align: top;\n",
       "    }\n",
       "\n",
       "    .dataframe thead th {\n",
       "        text-align: right;\n",
       "    }\n",
       "</style>\n",
       "<table border=\"1\" class=\"dataframe\">\n",
       "  <thead>\n",
       "    <tr style=\"text-align: right;\">\n",
       "      <th></th>\n",
       "      <th>name</th>\n",
       "      <th>product_desc</th>\n",
       "      <th>high_concept</th>\n",
       "      <th>location</th>\n",
       "      <th>market1</th>\n",
       "      <th>market2</th>\n",
       "      <th>market3</th>\n",
       "    </tr>\n",
       "  </thead>\n",
       "  <tbody>\n",
       "    <tr>\n",
       "      <th>0</th>\n",
       "      <td>Delight</td>\n",
       "      <td>Delight enlightens developers and designers on...</td>\n",
       "      <td>1 line of code to capture user interaction on ...</td>\n",
       "      <td>San Francisco</td>\n",
       "      <td>User Testing</td>\n",
       "      <td>Usability</td>\n",
       "      <td>Mobile Analytics</td>\n",
       "    </tr>\n",
       "    <tr>\n",
       "      <th>1</th>\n",
       "      <td>AnyRoad</td>\n",
       "      <td>AnyRoad is the leader in enterprise experience...</td>\n",
       "      <td>The leader in enterprise experience management.</td>\n",
       "      <td>San Francisco</td>\n",
       "      <td>SaaS</td>\n",
       "      <td>Enterprise Software</td>\n",
       "      <td>Experience Design</td>\n",
       "    </tr>\n",
       "    <tr>\n",
       "      <th>3</th>\n",
       "      <td>Code for America</td>\n",
       "      <td>The CfA Accelerator is an early stage startup ...</td>\n",
       "      <td>Helping government work better with the people...</td>\n",
       "      <td>San Francisco</td>\n",
       "      <td>Open Source</td>\n",
       "      <td>Governments</td>\n",
       "      <td>Nonprofits</td>\n",
       "    </tr>\n",
       "    <tr>\n",
       "      <th>4</th>\n",
       "      <td>Zipongo</td>\n",
       "      <td>Free: Web &amp; Mobile shopping list on healthy GO...</td>\n",
       "      <td>Prescription for Healthy Living (Personalized ...</td>\n",
       "      <td>San Francisco</td>\n",
       "      <td>Mobile</td>\n",
       "      <td>Enterprise Software</td>\n",
       "      <td>Food and Beverages</td>\n",
       "    </tr>\n",
       "    <tr>\n",
       "      <th>5</th>\n",
       "      <td>FOBO</td>\n",
       "      <td>\"FOBO Launches In San Francisco To Become The ...</td>\n",
       "      <td>The fastest, easiest way to sell your electronics</td>\n",
       "      <td>San Francisco</td>\n",
       "      <td>Mobile</td>\n",
       "      <td>Marketplaces</td>\n",
       "      <td>Local</td>\n",
       "    </tr>\n",
       "  </tbody>\n",
       "</table>\n",
       "</div>"
      ],
      "text/plain": [
       "               name                                       product_desc  \\\n",
       "0           Delight  Delight enlightens developers and designers on...   \n",
       "1           AnyRoad  AnyRoad is the leader in enterprise experience...   \n",
       "3  Code for America  The CfA Accelerator is an early stage startup ...   \n",
       "4           Zipongo  Free: Web & Mobile shopping list on healthy GO...   \n",
       "5              FOBO  \"FOBO Launches In San Francisco To Become The ...   \n",
       "\n",
       "                                        high_concept       location  \\\n",
       "0  1 line of code to capture user interaction on ...  San Francisco   \n",
       "1    The leader in enterprise experience management.  San Francisco   \n",
       "3  Helping government work better with the people...  San Francisco   \n",
       "4  Prescription for Healthy Living (Personalized ...  San Francisco   \n",
       "5  The fastest, easiest way to sell your electronics  San Francisco   \n",
       "\n",
       "        market1              market2             market3  \n",
       "0  User Testing            Usability    Mobile Analytics  \n",
       "1          SaaS  Enterprise Software   Experience Design  \n",
       "3   Open Source          Governments          Nonprofits  \n",
       "4        Mobile  Enterprise Software  Food and Beverages  \n",
       "5        Mobile         Marketplaces               Local  "
      ]
     },
     "execution_count": 41,
     "metadata": {},
     "output_type": "execute_result"
    }
   ],
   "source": [
    "df_bye_NaN.head()"
   ]
  },
  {
   "cell_type": "code",
   "execution_count": 87,
   "metadata": {},
   "outputs": [
    {
     "data": {
      "text/plain": [
       "116"
      ]
     },
     "execution_count": 87,
     "metadata": {},
     "output_type": "execute_result"
    }
   ],
   "source": [
    "len(set(df_bye_NaN['market1']))\n",
    "# set(df_bye_NaN['market1'])"
   ]
  },
  {
   "cell_type": "code",
   "execution_count": 84,
   "metadata": {},
   "outputs": [
    {
     "data": {
      "text/plain": [
       "204"
      ]
     },
     "execution_count": 84,
     "metadata": {},
     "output_type": "execute_result"
    }
   ],
   "source": [
    "len(set(df_bye_NaN['market2']))\n",
    "# set(df_bye_NaN['market2'])"
   ]
  },
  {
   "cell_type": "code",
   "execution_count": 85,
   "metadata": {},
   "outputs": [
    {
     "data": {
      "text/plain": [
       "314"
      ]
     },
     "execution_count": 85,
     "metadata": {},
     "output_type": "execute_result"
    }
   ],
   "source": [
    "len(set(df_bye_NaN['market3']))\n",
    "# set(df_bye_NaN['market3'])"
   ]
  },
  {
   "cell_type": "code",
   "execution_count": 95,
   "metadata": {},
   "outputs": [
    {
     "data": {
      "text/plain": [
       "634"
      ]
     },
     "execution_count": 95,
     "metadata": {},
     "output_type": "execute_result"
    }
   ],
   "source": [
    "total_unique_markets = len(set(df_bye_NaN['market3'])) + len(set(df_bye_NaN['market2'])) + len(set(df_bye_NaN['market1']))\n",
    "total_unique_markets"
   ]
  },
  {
   "cell_type": "code",
   "execution_count": 96,
   "metadata": {},
   "outputs": [
    {
     "data": {
      "text/plain": [
       "('Mobile', 185)"
      ]
     },
     "execution_count": 96,
     "metadata": {},
     "output_type": "execute_result"
    }
   ],
   "source": [
    "market1_items_counts = df['market1'].value_counts(sort=False)\n",
    "market1_top = market1_items_counts.loc[[market1_items_counts.idxmax()]]\n",
    "value, count = market1_top.index[0], market1_top.iat[0]\n",
    "value, count"
   ]
  },
  {
   "cell_type": "markdown",
   "metadata": {},
   "source": [
    "_To make this easier I will make a single column with all markets. Get the top 20 most repeated with their respective counts_"
   ]
  },
  {
   "cell_type": "code",
   "execution_count": 97,
   "metadata": {},
   "outputs": [],
   "source": [
    "market1_df = df_bye_NaN['market1']\n",
    "market2_df = df_bye_NaN['market2']\n",
    "market3_df = df_bye_NaN['market3']\n",
    "market_frames = [market1_df, market2_df, market3_df]\n",
    "market_df = pd.concat(market_frames)"
   ]
  },
  {
   "cell_type": "code",
   "execution_count": 98,
   "metadata": {},
   "outputs": [
    {
     "data": {
      "text/plain": [
       "0                             User Testing\n",
       "1                                     SaaS\n",
       "3                              Open Source\n",
       "4                                   Mobile\n",
       "5                                   Mobile\n",
       "6                       Financial Services\n",
       "7                              Health Care\n",
       "8                                Parenting\n",
       "9                      Enterprise Software\n",
       "10                                Payments\n",
       "12                       Consumer Internet\n",
       "13                               Analytics\n",
       "14                                    SaaS\n",
       "15                     Enterprise Software\n",
       "16                        Loyalty Programs\n",
       "17                                Hardware\n",
       "19                              E-Commerce\n",
       "20                                  Mobile\n",
       "22                                Families\n",
       "24                     Enterprise Software\n",
       "26                              E-Commerce\n",
       "27                  Social Media Marketing\n",
       "29      Health Care Information Technology\n",
       "30                             Health Care\n",
       "32                                    SaaS\n",
       "35                               Education\n",
       "36                           Online Travel\n",
       "37                                  Mobile\n",
       "40                             Health Care\n",
       "41                           Digital Media\n",
       "                       ...                \n",
       "1005                        Transportation\n",
       "1008                                 Local\n",
       "1009                   Sales and Marketing\n",
       "1011                 Application Platforms\n",
       "1012                                 Local\n",
       "1013                           Advertising\n",
       "1014                              Big Data\n",
       "1016                              Software\n",
       "1017                              Big Data\n",
       "1018                       Developer Tools\n",
       "1019                         Online Travel\n",
       "1020                                  Maps\n",
       "1022                 Advertising Platforms\n",
       "1023                  Consumer Electronics\n",
       "1024                              Big Data\n",
       "1026                                 Sales\n",
       "1027                              Software\n",
       "1028                 Productivity Software\n",
       "1031                        Consumer Goods\n",
       "1032                   Health and Wellness\n",
       "1034                        Rental Housing\n",
       "1035                    Telecommunications\n",
       "1036           Deep Information Technology\n",
       "1037                           Freelancers\n",
       "1038                             Logistics\n",
       "1039                    Big Data Analytics\n",
       "1040                       Mobile Payments\n",
       "1041                           Advertising\n",
       "1042                       Developer Tools\n",
       "1043                                 Green\n",
       "Length: 2502, dtype: object"
      ]
     },
     "execution_count": 98,
     "metadata": {},
     "output_type": "execute_result"
    }
   ],
   "source": [
    "market_df"
   ]
  },
  {
   "cell_type": "markdown",
   "metadata": {},
   "source": [
    "#### Make a dataframe with all possible market values, and make a count column to manage this step and the next one."
   ]
  },
  {
   "cell_type": "markdown",
   "metadata": {},
   "source": [
    "#### Extract data that can be used for analysis\n",
    " * From the three market columns get the top 20 most repeated values\n",
    " * Get how many unique values there are"
   ]
  },
  {
   "cell_type": "code",
   "execution_count": 113,
   "metadata": {},
   "outputs": [
    {
     "data": {
      "text/plain": [
       "Mobile                 172\n",
       "SaaS                   104\n",
       "E-Commerce              53\n",
       "Digital Media           31\n",
       "Enterprise Software     31\n",
       "Health Care             27\n",
       "Hardware                26\n",
       "Marketplaces            25\n",
       "Social Media            25\n",
       "Financial Services      25\n",
       "Education               24\n",
       "Consumer Internet       19\n",
       "Analytics               14\n",
       "Food and Beverages      13\n",
       "Advertising             11\n",
       "Real Estate             10\n",
       "B2B                      8\n",
       "Cloud Computing          8\n",
       "Music                    7\n",
       "Online Travel            7\n",
       "Name: market1, dtype: int64"
      ]
     },
     "execution_count": 113,
     "metadata": {},
     "output_type": "execute_result"
    }
   ],
   "source": [
    "market_20_most_popular = market1_df.value_counts().head(20)\n",
    "type(market_20_most_popular)\n",
    "market_20_most_popular"
   ]
  },
  {
   "cell_type": "code",
   "execution_count": 117,
   "metadata": {},
   "outputs": [
    {
     "data": {
      "text/plain": [
       "640"
      ]
     },
     "execution_count": 117,
     "metadata": {},
     "output_type": "execute_result"
    }
   ],
   "source": [
    "sum_20_popular_markets_datapoints = market_20_most_popular[0:20].sum()\n",
    "sum_20_popular_markets_datapoints\n"
   ]
  },
  {
   "cell_type": "code",
   "execution_count": 116,
   "metadata": {},
   "outputs": [],
   "source": [
    "software_num = 172 + 104 + 53 + 31 + 31 + 25 + 25 + 19 + 14 + 8 + 8 + 7\n",
    "engineering_num = 26\n",
    "health_num = 27\n",
    "finances_num = 25\n",
    "education_num = 24\n",
    "food_num = 13\n",
    "advertising_num = 11\n",
    "music_num = 7\n",
    "realstate_num = 10"
   ]
  },
  {
   "cell_type": "markdown",
   "metadata": {},
   "source": [
    "#### Next steps:\n",
    " * Think of how to make the categorisation\n",
    " * How representative of the total amount of startups are the 20\n",
    "   most popular startups.\n",
    " * Make categories that condense better the 20 most popular markets"
   ]
  },
  {
   "cell_type": "markdown",
   "metadata": {},
   "source": [
    "__Current Knowledge:__\n",
    " * Datapoints = 2502\n",
    " * total_unique_markets = 634\n",
    " * sum_20_popular_markets_datapoints = 640"
   ]
  },
  {
   "cell_type": "markdown",
   "metadata": {},
   "source": [
    "#### Categorization\n",
    " * Software: {Mobile, SaaS, E-Commerce, Digital Media, Enterprise Software, Marketplaces, Social Media, Consumer Internet, Analytics, B2B, Cloud Computing, Online Travel}\n",
    " * Engineering: {Hardware}\n",
    " * Health: {Health Care}\n",
    " * Finances: {Financial Services}\n",
    " * Education: {Education}\n",
    " * Food: {Food and Beverages}\n",
    " * Advertising: {Advertising}\n",
    " * Music: {Music}\n",
    " * RealState: {Real Estate}"
   ]
  },
  {
   "cell_type": "code",
   "execution_count": 110,
   "metadata": {},
   "outputs": [],
   "source": [
    "# Make Dataframe with categorization \n",
    "# Get to another dataframe that has categories with total amount of "
   ]
  },
  {
   "cell_type": "code",
   "execution_count": 119,
   "metadata": {},
   "outputs": [],
   "source": [
    "# Three columns: Category, Num Population at it, Porcentage of Population\n",
    "categories_data = [('Software', software_num, software_num/sum_20_popular_markets_datapoints),\n",
    "                   ('Engineering', engineering_num, engineering_num/sum_20_popular_markets_datapoints),\n",
    "                   ('Health', health_num, health_num/sum_20_popular_markets_datapoints),\n",
    "                   ('Finances', finances_num, finances_num/sum_20_popular_markets_datapoints),\n",
    "                   ('Education', education_num, education_num/sum_20_popular_markets_datapoints),\n",
    "                   ('Food', food_num, food_num/sum_20_popular_markets_datapoints),\n",
    "                   ('Advertising', advertising_num, advertising_num/sum_20_popular_markets_datapoints),\n",
    "                   ('Music', music_num, music_num/sum_20_popular_markets_datapoints),\n",
    "                   ('RealState', realstate_num, realstate_num/sum_20_popular_markets_datapoints)]\n",
    "labels = ['Categories', 'DataPoints', 'Percentage of Total']\n",
    "categories_df = pd.DataFrame.from_records(categories_data, columns=labels)"
   ]
  },
  {
   "cell_type": "code",
   "execution_count": 122,
   "metadata": {},
   "outputs": [
    {
     "data": {
      "text/html": [
       "<div>\n",
       "<style scoped>\n",
       "    .dataframe tbody tr th:only-of-type {\n",
       "        vertical-align: middle;\n",
       "    }\n",
       "\n",
       "    .dataframe tbody tr th {\n",
       "        vertical-align: top;\n",
       "    }\n",
       "\n",
       "    .dataframe thead th {\n",
       "        text-align: right;\n",
       "    }\n",
       "</style>\n",
       "<table border=\"1\" class=\"dataframe\">\n",
       "  <thead>\n",
       "    <tr style=\"text-align: right;\">\n",
       "      <th></th>\n",
       "      <th>Categories</th>\n",
       "      <th>DataPoints</th>\n",
       "      <th>Percentage of Total</th>\n",
       "    </tr>\n",
       "  </thead>\n",
       "  <tbody>\n",
       "    <tr>\n",
       "      <th>0</th>\n",
       "      <td>Software</td>\n",
       "      <td>497</td>\n",
       "      <td>0.776563</td>\n",
       "    </tr>\n",
       "    <tr>\n",
       "      <th>1</th>\n",
       "      <td>Engineering</td>\n",
       "      <td>26</td>\n",
       "      <td>0.040625</td>\n",
       "    </tr>\n",
       "    <tr>\n",
       "      <th>2</th>\n",
       "      <td>Health</td>\n",
       "      <td>27</td>\n",
       "      <td>0.042188</td>\n",
       "    </tr>\n",
       "    <tr>\n",
       "      <th>3</th>\n",
       "      <td>Finances</td>\n",
       "      <td>25</td>\n",
       "      <td>0.039062</td>\n",
       "    </tr>\n",
       "    <tr>\n",
       "      <th>4</th>\n",
       "      <td>Education</td>\n",
       "      <td>24</td>\n",
       "      <td>0.037500</td>\n",
       "    </tr>\n",
       "    <tr>\n",
       "      <th>5</th>\n",
       "      <td>Food</td>\n",
       "      <td>13</td>\n",
       "      <td>0.020313</td>\n",
       "    </tr>\n",
       "    <tr>\n",
       "      <th>6</th>\n",
       "      <td>Advertising</td>\n",
       "      <td>11</td>\n",
       "      <td>0.017188</td>\n",
       "    </tr>\n",
       "    <tr>\n",
       "      <th>7</th>\n",
       "      <td>Music</td>\n",
       "      <td>7</td>\n",
       "      <td>0.010937</td>\n",
       "    </tr>\n",
       "    <tr>\n",
       "      <th>8</th>\n",
       "      <td>RealState</td>\n",
       "      <td>10</td>\n",
       "      <td>0.015625</td>\n",
       "    </tr>\n",
       "  </tbody>\n",
       "</table>\n",
       "</div>"
      ],
      "text/plain": [
       "    Categories  DataPoints  Percentage of Total\n",
       "0     Software         497             0.776563\n",
       "1  Engineering          26             0.040625\n",
       "2       Health          27             0.042188\n",
       "3     Finances          25             0.039062\n",
       "4    Education          24             0.037500\n",
       "5         Food          13             0.020313\n",
       "6  Advertising          11             0.017188\n",
       "7        Music           7             0.010937\n",
       "8    RealState          10             0.015625"
      ]
     },
     "execution_count": 122,
     "metadata": {},
     "output_type": "execute_result"
    }
   ],
   "source": [
    "categories_df"
   ]
  },
  {
   "cell_type": "code",
   "execution_count": 124,
   "metadata": {},
   "outputs": [],
   "source": [
    "import seaborn as sns\n",
    "# import matplotlib.pyplot as plt"
   ]
  },
  {
   "cell_type": "code",
   "execution_count": 126,
   "metadata": {},
   "outputs": [
    {
     "data": {
      "text/plain": [
       "<matplotlib.axes._subplots.AxesSubplot at 0x1a2c8d9320>"
      ]
     },
     "execution_count": 126,
     "metadata": {},
     "output_type": "execute_result"
    },
    {
     "data": {
      "image/png": "[encoded data removed]",
      "text/plain": [
       "<Figure size 576x576 with 1 Axes>"
      ]
     },
     "metadata": {},
     "output_type": "display_data"
    }
   ],
   "source": [
    "plt.subplots(figsize = (8 , 8))\n",
    "sns.barplot(y=categories_df['Categories'], x=categories_df['DataPoints'])"
   ]
  },
  {
   "cell_type": "code",
   "execution_count": 130,
   "metadata": {},
   "outputs": [
    {
     "data": {
      "image/png": "[encoded data removed]",
      "text/plain": [
       "<Figure size 432x288 with 1 Axes>"
      ]
     },
     "metadata": {},
     "output_type": "display_data"
    }
   ],
   "source": [
    "categories_df.DataPoints.groupby(categories_df.Categories).sum().plot(kind='pie')\n",
    "plt.axis('equal')\n",
    "plt.show()\n"
   ]
  },
  {
   "cell_type": "markdown",
   "metadata": {},
   "source": [
    "### Conclusion\n",
    " * The market of startups is mainly made out of Software. \n",
    " * I make the conclusion if a 1000 startup gets made probably around 70% of them will be software."
   ]
  },
  {
   "cell_type": "code",
   "execution_count": null,
   "metadata": {},
   "outputs": [],
   "source": []
  }
 ],
 "metadata": {
  "kernelspec": {
   "display_name": "Python 3",
   "language": "python",
   "name": "python3"
  },
  "language_info": {
   "codemirror_mode": {
    "name": "ipython",
    "version": 3
   },
   "file_extension": ".py",
   "mimetype": "text/x-python",
   "name": "python",
   "nbconvert_exporter": "python",
   "pygments_lexer": "ipython3",
   "version": "3.7.1"
  }
 },
 "nbformat": 4,
 "nbformat_minor": 2
}
