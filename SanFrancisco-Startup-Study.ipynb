{
 "cells": [
  {
   "cell_type": "markdown",
   "metadata": {},
   "source": [
    "# San Francisco Startup List"
   ]
  },
  {
   "cell_type": "markdown",
   "metadata": {},
   "source": [
    "## Motivation\n",
    " * The startup market is a very interesting place for possibilities of ideation and creation to take place. I want to understand it better for the enjoyment of knowing what is happening there and how it works."
   ]
  },
  {
   "cell_type": "markdown",
   "metadata": {},
   "source": [
    "## Approach\n",
    " * First clean the dataset from the data I believe won't add any value to the questions I see to get answered.\n",
    " * State the problems I face on this dataset where the information does not help me see through what I want.\n",
    " * Mold the dataset so the information I seek get answered and supply graphics with those answer to make clear my desired understanding."
   ]
  },
  {
   "cell_type": "markdown",
   "metadata": {},
   "source": [
    "## Process"
   ]
  },
  {
   "cell_type": "code",
   "execution_count": 16,
   "metadata": {},
   "outputs": [],
   "source": [
    "import pandas as pd\n",
    "import numpy as np\n",
    "import matplotlib.pyplot as plt"
   ]
  },
  {
   "cell_type": "code",
   "execution_count": 17,
   "metadata": {},
   "outputs": [],
   "source": [
    "PATH = \"Dataset/san-francisco-based-startups.zip\""
   ]
  },
  {
   "cell_type": "code",
   "execution_count": 19,
   "metadata": {},
   "outputs": [],
   "source": [
    "df = pd.read_csv(PATH)"
   ]
  },
  {
   "cell_type": "code",
   "execution_count": 20,
   "metadata": {},
   "outputs": [
    {
     "data": {
      "text/html": [
       "<div>\n",
       "<style scoped>\n",
       "    .dataframe tbody tr th:only-of-type {\n",
       "        vertical-align: middle;\n",
       "    }\n",
       "\n",
       "    .dataframe tbody tr th {\n",
       "        vertical-align: top;\n",
       "    }\n",
       "\n",
       "    .dataframe thead th {\n",
       "        text-align: right;\n",
       "    }\n",
       "</style>\n",
       "<table border=\"1\" class=\"dataframe\">\n",
       "  <thead>\n",
       "    <tr style=\"text-align: right;\">\n",
       "      <th></th>\n",
       "      <th>name</th>\n",
       "      <th>email</th>\n",
       "      <th>product_desc</th>\n",
       "      <th>high_concept</th>\n",
       "      <th>location</th>\n",
       "      <th>market1</th>\n",
       "      <th>market2</th>\n",
       "      <th>market3</th>\n",
       "    </tr>\n",
       "  </thead>\n",
       "  <tbody>\n",
       "    <tr>\n",
       "      <th>0</th>\n",
       "      <td>Delight</td>\n",
       "      <td>http://delight.io</td>\n",
       "      <td>Delight enlightens developers and designers on...</td>\n",
       "      <td>1 line of code to capture user interaction on ...</td>\n",
       "      <td>San Francisco</td>\n",
       "      <td>User Testing</td>\n",
       "      <td>Usability</td>\n",
       "      <td>Mobile Analytics</td>\n",
       "    </tr>\n",
       "    <tr>\n",
       "      <th>1</th>\n",
       "      <td>AnyRoad</td>\n",
       "      <td>http://anyroad.com</td>\n",
       "      <td>AnyRoad is the leader in enterprise experience...</td>\n",
       "      <td>The leader in enterprise experience management.</td>\n",
       "      <td>San Francisco</td>\n",
       "      <td>SaaS</td>\n",
       "      <td>Enterprise Software</td>\n",
       "      <td>Experience Design</td>\n",
       "    </tr>\n",
       "    <tr>\n",
       "      <th>2</th>\n",
       "      <td>MESA Ventures</td>\n",
       "      <td>http://www.mesa.vc</td>\n",
       "      <td>MESA Ventures is an early stage venture capita...</td>\n",
       "      <td>Consumer-focused venture capital</td>\n",
       "      <td>New York City</td>\n",
       "      <td>NaN</td>\n",
       "      <td>NaN</td>\n",
       "      <td>NaN</td>\n",
       "    </tr>\n",
       "    <tr>\n",
       "      <th>3</th>\n",
       "      <td>Code for America</td>\n",
       "      <td>http://codeforamerica.org</td>\n",
       "      <td>The CfA Accelerator is an early stage startup ...</td>\n",
       "      <td>Helping government work better with the people...</td>\n",
       "      <td>San Francisco</td>\n",
       "      <td>Open Source</td>\n",
       "      <td>Governments</td>\n",
       "      <td>Nonprofits</td>\n",
       "    </tr>\n",
       "    <tr>\n",
       "      <th>4</th>\n",
       "      <td>Zipongo</td>\n",
       "      <td>http://www.zipongo.com</td>\n",
       "      <td>Free: Web &amp; Mobile shopping list on healthy GO...</td>\n",
       "      <td>Prescription for Healthy Living (Personalized ...</td>\n",
       "      <td>San Francisco</td>\n",
       "      <td>Mobile</td>\n",
       "      <td>Enterprise Software</td>\n",
       "      <td>Food and Beverages</td>\n",
       "    </tr>\n",
       "    <tr>\n",
       "      <th>5</th>\n",
       "      <td>FOBO</td>\n",
       "      <td>http://fobo.net</td>\n",
       "      <td>\"FOBO Launches In San Francisco To Become The ...</td>\n",
       "      <td>The fastest, easiest way to sell your electronics</td>\n",
       "      <td>San Francisco</td>\n",
       "      <td>Mobile</td>\n",
       "      <td>Marketplaces</td>\n",
       "      <td>Local</td>\n",
       "    </tr>\n",
       "    <tr>\n",
       "      <th>6</th>\n",
       "      <td>Upside</td>\n",
       "      <td>http://www.upsideadvisor.com</td>\n",
       "      <td>Upside helps registered investment advisors be...</td>\n",
       "      <td>Upside helps financial advisors beat the “robo...</td>\n",
       "      <td>San Francisco</td>\n",
       "      <td>Financial Services</td>\n",
       "      <td>Investment Management</td>\n",
       "      <td>Personal Finance</td>\n",
       "    </tr>\n",
       "    <tr>\n",
       "      <th>7</th>\n",
       "      <td>Whistle</td>\n",
       "      <td>http://www.whistle.com</td>\n",
       "      <td>Whistle is the world's first technology compan...</td>\n",
       "      <td>Improving the lives of pets, as they do ours.</td>\n",
       "      <td>San Francisco</td>\n",
       "      <td>Health Care</td>\n",
       "      <td>Consumer Electronics</td>\n",
       "      <td>Pets</td>\n",
       "    </tr>\n",
       "    <tr>\n",
       "      <th>8</th>\n",
       "      <td>Kinderloop</td>\n",
       "      <td>http://www.kinderloop.com/?utm_source=Angelist...</td>\n",
       "      <td>A web, and mobile application that brings the ...</td>\n",
       "      <td>Beautifully simple early childhood reporting!</td>\n",
       "      <td>San Francisco</td>\n",
       "      <td>Parenting</td>\n",
       "      <td>Kids</td>\n",
       "      <td>K-12 Education</td>\n",
       "    </tr>\n",
       "    <tr>\n",
       "      <th>9</th>\n",
       "      <td>Fresh</td>\n",
       "      <td>http://www.freshvc.com</td>\n",
       "      <td>Fresh is a venture capital firm focused on inv...</td>\n",
       "      <td>We invest in companies that make people's live...</td>\n",
       "      <td>San Francisco</td>\n",
       "      <td>Enterprise Software</td>\n",
       "      <td>Marketplaces</td>\n",
       "      <td>Developer Tools</td>\n",
       "    </tr>\n",
       "  </tbody>\n",
       "</table>\n",
       "</div>"
      ],
      "text/plain": [
       "               name                                              email  \\\n",
       "0           Delight                                  http://delight.io   \n",
       "1           AnyRoad                                 http://anyroad.com   \n",
       "2     MESA Ventures                                 http://www.mesa.vc   \n",
       "3  Code for America                          http://codeforamerica.org   \n",
       "4           Zipongo                             http://www.zipongo.com   \n",
       "5              FOBO                                    http://fobo.net   \n",
       "6            Upside                       http://www.upsideadvisor.com   \n",
       "7           Whistle                             http://www.whistle.com   \n",
       "8        Kinderloop  http://www.kinderloop.com/?utm_source=Angelist...   \n",
       "9             Fresh                             http://www.freshvc.com   \n",
       "\n",
       "                                        product_desc  \\\n",
       "0  Delight enlightens developers and designers on...   \n",
       "1  AnyRoad is the leader in enterprise experience...   \n",
       "2  MESA Ventures is an early stage venture capita...   \n",
       "3  The CfA Accelerator is an early stage startup ...   \n",
       "4  Free: Web & Mobile shopping list on healthy GO...   \n",
       "5  \"FOBO Launches In San Francisco To Become The ...   \n",
       "6  Upside helps registered investment advisors be...   \n",
       "7  Whistle is the world's first technology compan...   \n",
       "8  A web, and mobile application that brings the ...   \n",
       "9  Fresh is a venture capital firm focused on inv...   \n",
       "\n",
       "                                        high_concept       location  \\\n",
       "0  1 line of code to capture user interaction on ...  San Francisco   \n",
       "1    The leader in enterprise experience management.  San Francisco   \n",
       "2                   Consumer-focused venture capital  New York City   \n",
       "3  Helping government work better with the people...  San Francisco   \n",
       "4  Prescription for Healthy Living (Personalized ...  San Francisco   \n",
       "5  The fastest, easiest way to sell your electronics  San Francisco   \n",
       "6  Upside helps financial advisors beat the “robo...  San Francisco   \n",
       "7      Improving the lives of pets, as they do ours.  San Francisco   \n",
       "8      Beautifully simple early childhood reporting!  San Francisco   \n",
       "9  We invest in companies that make people's live...  San Francisco   \n",
       "\n",
       "               market1                market2             market3  \n",
       "0         User Testing              Usability    Mobile Analytics  \n",
       "1                 SaaS    Enterprise Software   Experience Design  \n",
       "2                  NaN                    NaN                 NaN  \n",
       "3          Open Source            Governments          Nonprofits  \n",
       "4               Mobile    Enterprise Software  Food and Beverages  \n",
       "5               Mobile           Marketplaces               Local  \n",
       "6   Financial Services  Investment Management    Personal Finance  \n",
       "7          Health Care   Consumer Electronics                Pets  \n",
       "8            Parenting                   Kids      K-12 Education  \n",
       "9  Enterprise Software           Marketplaces     Developer Tools  "
      ]
     },
     "execution_count": 20,
     "metadata": {},
     "output_type": "execute_result"
    }
   ],
   "source": [
    "df.head(10)"
   ]
  },
  {
   "cell_type": "markdown",
   "metadata": {
    "collapsed": true
   },
   "source": [
    "## Cleaning\n",
    " * Drop email, it does not serve any purpose.\n",
    " * If one has market1, market2 or market3 empty, get rid of that row.\n",
    " * "
   ]
  },
  {
   "cell_type": "markdown",
   "metadata": {},
   "source": [
    "## Problem \n",
    " * Which markets are the most competitive ones, there is more people creating products for that.\n",
    "     * Separate all unique values, create categories among those.\n",
    "     * Start easy just do the ones with the most repetitions, then go deeper.\n",
    "     * See market by market\n",
    " * Which market is the one with the lowest competition.\n",
    "     * See all the ones with unique values, how many are there, could they fit in any categorie.\n",
    " * Which location has the most amount of startups.\n",
    "     * Datapoint x Location"
   ]
  },
  {
   "cell_type": "markdown",
   "metadata": {},
   "source": [
    "---"
   ]
  },
  {
   "cell_type": "markdown",
   "metadata": {},
   "source": [
    "## Step1 - Cleaning"
   ]
  },
  {
   "cell_type": "markdown",
   "metadata": {},
   "source": [
    "### Getting rid of the email column"
   ]
  },
  {
   "cell_type": "code",
   "execution_count": 21,
   "metadata": {},
   "outputs": [],
   "source": [
    "df = df.drop('email', 1)"
   ]
  },
  {
   "cell_type": "code",
   "execution_count": 24,
   "metadata": {},
   "outputs": [
    {
     "data": {
      "text/html": [
       "<div>\n",
       "<style scoped>\n",
       "    .dataframe tbody tr th:only-of-type {\n",
       "        vertical-align: middle;\n",
       "    }\n",
       "\n",
       "    .dataframe tbody tr th {\n",
       "        vertical-align: top;\n",
       "    }\n",
       "\n",
       "    .dataframe thead th {\n",
       "        text-align: right;\n",
       "    }\n",
       "</style>\n",
       "<table border=\"1\" class=\"dataframe\">\n",
       "  <thead>\n",
       "    <tr style=\"text-align: right;\">\n",
       "      <th></th>\n",
       "      <th>name</th>\n",
       "      <th>product_desc</th>\n",
       "      <th>high_concept</th>\n",
       "      <th>location</th>\n",
       "      <th>market1</th>\n",
       "      <th>market2</th>\n",
       "      <th>market3</th>\n",
       "    </tr>\n",
       "  </thead>\n",
       "  <tbody>\n",
       "    <tr>\n",
       "      <th>0</th>\n",
       "      <td>Delight</td>\n",
       "      <td>Delight enlightens developers and designers on...</td>\n",
       "      <td>1 line of code to capture user interaction on ...</td>\n",
       "      <td>San Francisco</td>\n",
       "      <td>User Testing</td>\n",
       "      <td>Usability</td>\n",
       "      <td>Mobile Analytics</td>\n",
       "    </tr>\n",
       "    <tr>\n",
       "      <th>1</th>\n",
       "      <td>AnyRoad</td>\n",
       "      <td>AnyRoad is the leader in enterprise experience...</td>\n",
       "      <td>The leader in enterprise experience management.</td>\n",
       "      <td>San Francisco</td>\n",
       "      <td>SaaS</td>\n",
       "      <td>Enterprise Software</td>\n",
       "      <td>Experience Design</td>\n",
       "    </tr>\n",
       "    <tr>\n",
       "      <th>2</th>\n",
       "      <td>MESA Ventures</td>\n",
       "      <td>MESA Ventures is an early stage venture capita...</td>\n",
       "      <td>Consumer-focused venture capital</td>\n",
       "      <td>New York City</td>\n",
       "      <td>NaN</td>\n",
       "      <td>NaN</td>\n",
       "      <td>NaN</td>\n",
       "    </tr>\n",
       "    <tr>\n",
       "      <th>3</th>\n",
       "      <td>Code for America</td>\n",
       "      <td>The CfA Accelerator is an early stage startup ...</td>\n",
       "      <td>Helping government work better with the people...</td>\n",
       "      <td>San Francisco</td>\n",
       "      <td>Open Source</td>\n",
       "      <td>Governments</td>\n",
       "      <td>Nonprofits</td>\n",
       "    </tr>\n",
       "    <tr>\n",
       "      <th>4</th>\n",
       "      <td>Zipongo</td>\n",
       "      <td>Free: Web &amp; Mobile shopping list on healthy GO...</td>\n",
       "      <td>Prescription for Healthy Living (Personalized ...</td>\n",
       "      <td>San Francisco</td>\n",
       "      <td>Mobile</td>\n",
       "      <td>Enterprise Software</td>\n",
       "      <td>Food and Beverages</td>\n",
       "    </tr>\n",
       "  </tbody>\n",
       "</table>\n",
       "</div>"
      ],
      "text/plain": [
       "               name                                       product_desc  \\\n",
       "0           Delight  Delight enlightens developers and designers on...   \n",
       "1           AnyRoad  AnyRoad is the leader in enterprise experience...   \n",
       "2     MESA Ventures  MESA Ventures is an early stage venture capita...   \n",
       "3  Code for America  The CfA Accelerator is an early stage startup ...   \n",
       "4           Zipongo  Free: Web & Mobile shopping list on healthy GO...   \n",
       "\n",
       "                                        high_concept       location  \\\n",
       "0  1 line of code to capture user interaction on ...  San Francisco   \n",
       "1    The leader in enterprise experience management.  San Francisco   \n",
       "2                   Consumer-focused venture capital  New York City   \n",
       "3  Helping government work better with the people...  San Francisco   \n",
       "4  Prescription for Healthy Living (Personalized ...  San Francisco   \n",
       "\n",
       "        market1              market2             market3  \n",
       "0  User Testing            Usability    Mobile Analytics  \n",
       "1          SaaS  Enterprise Software   Experience Design  \n",
       "2           NaN                  NaN                 NaN  \n",
       "3   Open Source          Governments          Nonprofits  \n",
       "4        Mobile  Enterprise Software  Food and Beverages  "
      ]
     },
     "execution_count": 24,
     "metadata": {},
     "output_type": "execute_result"
    }
   ],
   "source": [
    "df.head()"
   ]
  },
  {
   "cell_type": "code",
   "execution_count": 25,
   "metadata": {},
   "outputs": [
    {
     "data": {
      "text/plain": [
       "1044"
      ]
     },
     "execution_count": 25,
     "metadata": {},
     "output_type": "execute_result"
    }
   ],
   "source": [
    "len(df)"
   ]
  },
  {
   "cell_type": "markdown",
   "metadata": {},
   "source": [
    "### With the objective of getting rid of the NaN values I found plenty of options to achieve this but I don't know which approach is better so given that this step is been taken to "
   ]
  },
  {
   "cell_type": "code",
   "execution_count": null,
   "metadata": {},
   "outputs": [],
   "source": []
  },
  {
   "cell_type": "code",
   "execution_count": null,
   "metadata": {},
   "outputs": [],
   "source": []
  },
  {
   "cell_type": "code",
   "execution_count": null,
   "metadata": {},
   "outputs": [],
   "source": [
    "df = df[np.isfinite(df['EPS'])]"
   ]
  }
 ],
 "metadata": {
  "kernelspec": {
   "display_name": "Python 3",
   "language": "python",
   "name": "python3"
  },
  "language_info": {
   "codemirror_mode": {
    "name": "ipython",
    "version": 3
   },
   "file_extension": ".py",
   "mimetype": "text/x-python",
   "name": "python",
   "nbconvert_exporter": "python",
   "pygments_lexer": "ipython3",
   "version": "3.7.1"
  }
 },
 "nbformat": 4,
 "nbformat_minor": 2
}
